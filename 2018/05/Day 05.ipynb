{
 "cells": [
  {
   "cell_type": "code",
   "execution_count": 1,
   "metadata": {},
   "outputs": [
    {
     "name": "stderr",
     "output_type": "stream",
     "text": [
      "/home/tobias/miniconda3/envs/cf37/lib/python3.7/importlib/_bootstrap.py:219: RuntimeWarning: numpy.dtype size changed, may indicate binary incompatibility. Expected 96, got 88\n",
      "  return f(*args, **kwds)\n"
     ]
    }
   ],
   "source": [
    "import collections as co\n",
    "import itertools as it\n",
    "import functools as ft\n",
    "import operator as op\n",
    "import re\n",
    "import numpy as np\n",
    "import pandas as pd\n",
    "import toolz as tlz"
   ]
  },
  {
   "cell_type": "code",
   "execution_count": 2,
   "metadata": {},
   "outputs": [],
   "source": [
    "lines = open('input.txt').read().splitlines()"
   ]
  },
  {
   "cell_type": "markdown",
   "metadata": {},
   "source": [
    "# Part 1"
   ]
  },
  {
   "cell_type": "code",
   "execution_count": 3,
   "metadata": {},
   "outputs": [],
   "source": [
    "p = lines[0]"
   ]
  },
  {
   "cell_type": "code",
   "execution_count": 4,
   "metadata": {},
   "outputs": [
    {
     "data": {
      "text/plain": [
       "10878"
      ]
     },
     "execution_count": 4,
     "metadata": {},
     "output_type": "execute_result"
    }
   ],
   "source": [
    "def react(p):\n",
    "    out = p\n",
    "    p = ''\n",
    "    while out!=p:\n",
    "        p = out\n",
    "        P = p.upper()\n",
    "        out = ''\n",
    "        i = 0\n",
    "        while i<len(p)-1:\n",
    "            if P[i]==P[i+1] and p[i]!=p[i+1]:\n",
    "                i += 1\n",
    "            else:\n",
    "                out += p[i]\n",
    "            i += 1\n",
    "        if i==len(p)-1:\n",
    "            out += p[i]\n",
    "    return len(out)\n",
    "\n",
    "react(p)"
   ]
  },
  {
   "cell_type": "markdown",
   "metadata": {},
   "source": [
    "# Part 2"
   ]
  },
  {
   "cell_type": "code",
   "execution_count": 5,
   "metadata": {},
   "outputs": [
    {
     "name": "stdout",
     "output_type": "stream",
     "text": [
      "a 10408\n",
      "b 10412\n",
      "c 10460\n",
      "d 10438\n",
      "e 10474\n",
      "f 6874\n",
      "g 10508\n",
      "h 10500\n",
      "i 10440\n",
      "j 10426\n",
      "k 10418\n",
      "l 10420\n",
      "m 10498\n",
      "n 10406\n",
      "o 10464\n",
      "p 10396\n",
      "q 10470\n",
      "r 10386\n",
      "s 10424\n",
      "t 10442\n",
      "u 10454\n",
      "v 10500\n",
      "w 10480\n",
      "x 10400\n",
      "y 10472\n",
      "z 10460\n"
     ]
    }
   ],
   "source": [
    "ds = {}\n",
    "for l in 'abcdefghijklmnopqrstuvwxyz':\n",
    "    p2 = p.replace(l, '').replace(l.upper(), '')\n",
    "    ds[l] = react(p2)\n",
    "    print(l, ds[l])"
   ]
  },
  {
   "cell_type": "code",
   "execution_count": 6,
   "metadata": {},
   "outputs": [
    {
     "data": {
      "text/plain": [
       "('f', 6874)"
      ]
     },
     "execution_count": 6,
     "metadata": {},
     "output_type": "execute_result"
    }
   ],
   "source": [
    "sorted(ds.items(), key=op.itemgetter(1))[0]"
   ]
  }
 ],
 "metadata": {
  "kernelspec": {
   "display_name": "Python 3",
   "language": "python",
   "name": "python3"
  },
  "language_info": {
   "codemirror_mode": {
    "name": "ipython",
    "version": 3
   },
   "file_extension": ".py",
   "mimetype": "text/x-python",
   "name": "python",
   "nbconvert_exporter": "python",
   "pygments_lexer": "ipython3",
   "version": "3.7.0"
  }
 },
 "nbformat": 4,
 "nbformat_minor": 2
}
